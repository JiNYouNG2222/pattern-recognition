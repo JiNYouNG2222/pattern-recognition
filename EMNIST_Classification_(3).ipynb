{
  "nbformat": 4,
  "nbformat_minor": 0,
  "metadata": {
    "colab": {
      "provenance": [],
      "collapsed_sections": [
        "U4MOtieL0iOM",
        "tN4h4Au02RK2"
      ],
      "gpuType": "T4",
      "include_colab_link": true
    },
    "kernelspec": {
      "name": "python3",
      "display_name": "Python 3"
    },
    "accelerator": "GPU"
  },
  "cells": [
    {
      "cell_type": "markdown",
      "metadata": {
        "id": "view-in-github",
        "colab_type": "text"
      },
      "source": [
        "<a href=\"https://colab.research.google.com/github/JiNYouNG2222/pattern-recognition/blob/main/EMNIST_Classification_(3).ipynb\" target=\"_parent\"><img src=\"https://colab.research.google.com/assets/colab-badge.svg\" alt=\"Open In Colab\"/></a>"
      ]
    },
    {
      "cell_type": "markdown",
      "metadata": {
        "id": "qKJ49Pdgptnm"
      },
      "source": [
        "# Using Convolutional Neural Network to classify the EMNIST Dataset\n",
        "\n",
        "PyTorch provides a wide range of built-in datasets to work on like, MNIST, EMNIST, Fashion MNIST, CIFAR10 etc. In this notebook, we are using the EMNIST dataset which is split into 6 sub-datasets. We will be using the 'letters' sub-dataset, which consists of 26 balanced classes, each having 28x28 pixel images of hand-written letters from the english alphabet. The objective of the model is Hand-written Alphabet Recognition.\n",
        "\n",
        "We'll be training the model on 124800 images from the training dataset, out of which 1% of the images will be used for the validation set, and the model will be tested on 20800 images from the test dataset.\n",
        "\n",
        "In the model, we will use CNNs to build our model."
      ]
    },
    {
      "cell_type": "markdown",
      "metadata": {
        "id": "XNoQa1JOrAh0"
      },
      "source": [
        "#### Importing libraries and the EMNIST dataset"
      ]
    },
    {
      "cell_type": "code",
      "metadata": {
        "id": "7X7zr1jQornk"
      },
      "source": [
        "import torch\n",
        "import torchvision\n",
        "from torchvision.datasets import EMNIST"
      ],
      "execution_count": 1,
      "outputs": []
    },
    {
      "cell_type": "markdown",
      "source": [],
      "metadata": {
        "id": "sMDt_8Q-T3iu"
      }
    },
    {
      "cell_type": "markdown",
      "metadata": {
        "id": "cd2A99Nfrlxt"
      },
      "source": [
        "#### Downloading the EMNIST dataset to the notebook\n",
        "The root directory where we want the dataset to be downloaded, the sub-dataset and the download permissions are to be passed as arguments to get the in-built dataset to work on."
      ]
    },
    {
      "cell_type": "code",
      "metadata": {
        "id": "FyRiDRYNpDG2",
        "colab": {
          "base_uri": "https://localhost:8080/"
        },
        "outputId": "d84c561f-5ef0-4d6f-bdb4-2c8a08659679"
      },
      "source": [
        "dataset = EMNIST(root='data/', split='letters', download=True)"
      ],
      "execution_count": 2,
      "outputs": [
        {
          "output_type": "stream",
          "name": "stdout",
          "text": [
            "Downloading https://biometrics.nist.gov/cs_links/EMNIST/gzip.zip to data/EMNIST/raw/gzip.zip\n"
          ]
        },
        {
          "output_type": "stream",
          "name": "stderr",
          "text": [
            "100%|██████████| 562M/562M [00:14<00:00, 39.0MB/s]\n"
          ]
        },
        {
          "output_type": "stream",
          "name": "stdout",
          "text": [
            "Extracting data/EMNIST/raw/gzip.zip to data/EMNIST/raw\n"
          ]
        }
      ]
    },
    {
      "cell_type": "markdown",
      "metadata": {
        "id": "O2jVHzjatgKw"
      },
      "source": [
        "#### Exploring the Dataset\n",
        "Now, to get familiar with the dataset, we'll just look at the length of the dataset, some of the nodes of the dataset and print their image and label for some visual familiarity, and see the classes the dataset is divided into."
      ]
    },
    {
      "cell_type": "code",
      "metadata": {
        "id": "0b9OHhg-pab0",
        "colab": {
          "base_uri": "https://localhost:8080/"
        },
        "outputId": "b8fc560d-036e-4bb5-eca0-220cabad5635"
      },
      "source": [
        "len(dataset)"
      ],
      "execution_count": 39,
      "outputs": [
        {
          "output_type": "execute_result",
          "data": {
            "text/plain": [
              "124800"
            ]
          },
          "metadata": {},
          "execution_count": 39
        }
      ]
    },
    {
      "cell_type": "markdown",
      "metadata": {
        "id": "v83_HRy78jFz"
      },
      "source": [
        "The training dataset contains 124800 data points."
      ]
    },
    {
      "cell_type": "code",
      "metadata": {
        "id": "XMY4sCUgqHsM",
        "colab": {
          "base_uri": "https://localhost:8080/"
        },
        "outputId": "235bbfdc-7342-4796-831a-fd64d2049353"
      },
      "source": [
        "dataset[0]"
      ],
      "execution_count": 40,
      "outputs": [
        {
          "output_type": "execute_result",
          "data": {
            "text/plain": [
              "(tensor([[[0.0000, 0.0000, 0.0000, 0.0000, 0.0000, 0.0000, 0.0000, 0.0000,\n",
              "           0.0000, 0.0000, 0.0000, 0.0000, 0.0000, 0.0000, 0.0000, 0.0000,\n",
              "           0.0000, 0.0000, 0.0000, 0.0000, 0.0000, 0.0000, 0.0000, 0.0000,\n",
              "           0.0000, 0.0000, 0.0000, 0.0000],\n",
              "          [0.0000, 0.0000, 0.0000, 0.0000, 0.0000, 0.0000, 0.0000, 0.0000,\n",
              "           0.0000, 0.0000, 0.0000, 0.0000, 0.0000, 0.0000, 0.0000, 0.0000,\n",
              "           0.0000, 0.0000, 0.0000, 0.0000, 0.0000, 0.0000, 0.0000, 0.0000,\n",
              "           0.0000, 0.0000, 0.0000, 0.0000],\n",
              "          [0.0000, 0.0000, 0.0000, 0.0000, 0.0000, 0.0000, 0.0000, 0.0000,\n",
              "           0.0000, 0.0000, 0.0039, 0.0000, 0.0000, 0.0000, 0.0000, 0.0000,\n",
              "           0.0000, 0.0000, 0.0000, 0.0000, 0.0000, 0.0000, 0.0000, 0.0000,\n",
              "           0.0000, 0.0000, 0.0000, 0.0000],\n",
              "          [0.0000, 0.0000, 0.0784, 0.4471, 0.4902, 0.3216, 0.1451, 0.1451,\n",
              "           0.1529, 0.4510, 0.6157, 0.3686, 0.0824, 0.0392, 0.1255, 0.1451,\n",
              "           0.1451, 0.1451, 0.1451, 0.1451, 0.1451, 0.1451, 0.3216, 0.4902,\n",
              "           0.4471, 0.0784, 0.0000, 0.0000],\n",
              "          [0.0000, 0.0118, 0.4275, 0.9608, 0.9765, 0.9137, 0.8510, 0.8510,\n",
              "           0.8510, 0.9608, 0.9843, 0.9176, 0.6745, 0.5569, 0.7961, 0.8510,\n",
              "           0.8510, 0.8510, 0.8510, 0.8510, 0.8510, 0.8510, 0.9137, 0.9765,\n",
              "           0.9608, 0.4275, 0.0118, 0.0000],\n",
              "          [0.0000, 0.0157, 0.4471, 0.9922, 0.9961, 0.9961, 0.9961, 0.9961,\n",
              "           0.9961, 0.9961, 0.9961, 0.9961, 0.9882, 0.9843, 0.9961, 0.9961,\n",
              "           0.9961, 0.9961, 0.9961, 0.9961, 0.9961, 0.9961, 0.9961, 0.9961,\n",
              "           0.9961, 0.4980, 0.0157, 0.0000],\n",
              "          [0.0000, 0.0000, 0.1765, 0.8392, 0.9137, 0.9843, 0.9961, 0.9961,\n",
              "           0.9961, 0.9961, 1.0000, 1.0000, 1.0000, 1.0000, 1.0000, 1.0000,\n",
              "           1.0000, 1.0000, 1.0000, 1.0000, 1.0000, 1.0000, 0.9961, 0.9961,\n",
              "           0.9843, 0.4431, 0.0157, 0.0000],\n",
              "          [0.0000, 0.0000, 0.0000, 0.0196, 0.0863, 0.3216, 0.5020, 0.6275,\n",
              "           0.7216, 0.8510, 0.8510, 0.8549, 0.9765, 0.9961, 1.0000, 1.0000,\n",
              "           1.0000, 1.0000, 1.0000, 0.9961, 0.9961, 0.9686, 0.8471, 0.6667,\n",
              "           0.3255, 0.0275, 0.0000, 0.0000],\n",
              "          [0.0000, 0.0000, 0.0000, 0.0000, 0.0000, 0.0078, 0.0196, 0.0627,\n",
              "           0.0980, 0.1451, 0.1569, 0.1961, 0.8902, 0.9961, 1.0000, 1.0000,\n",
              "           0.9961, 0.9961, 0.9882, 0.9608, 0.8627, 0.6235, 0.1490, 0.0824,\n",
              "           0.0118, 0.0000, 0.0000, 0.0000],\n",
              "          [0.0000, 0.0000, 0.0000, 0.0000, 0.0000, 0.0000, 0.0000, 0.0000,\n",
              "           0.0000, 0.0353, 0.3020, 0.5490, 0.9686, 0.9961, 0.9961, 0.9961,\n",
              "           0.9961, 0.9569, 0.6941, 0.4471, 0.1961, 0.0784, 0.0000, 0.0000,\n",
              "           0.0000, 0.0000, 0.0000, 0.0000],\n",
              "          [0.0000, 0.0000, 0.0000, 0.0000, 0.0000, 0.0000, 0.0000, 0.0118,\n",
              "           0.1333, 0.6863, 0.9647, 0.9961, 0.9961, 0.9961, 0.9922, 0.8667,\n",
              "           0.4510, 0.1804, 0.0275, 0.0000, 0.0000, 0.0000, 0.0000, 0.0000,\n",
              "           0.0000, 0.0000, 0.0000, 0.0000],\n",
              "          [0.0000, 0.0000, 0.0000, 0.0000, 0.0000, 0.0118, 0.1333, 0.3294,\n",
              "           0.6863, 0.9843, 0.9961, 0.9961, 0.9922, 0.9176, 0.7922, 0.3569,\n",
              "           0.0157, 0.0000, 0.0000, 0.0000, 0.0000, 0.0000, 0.0000, 0.0000,\n",
              "           0.0000, 0.0000, 0.0000, 0.0000],\n",
              "          [0.0000, 0.0000, 0.0000, 0.0000, 0.0392, 0.3098, 0.8000, 0.9137,\n",
              "           0.9843, 0.9961, 1.0000, 1.0000, 0.9373, 0.4549, 0.1373, 0.0275,\n",
              "           0.0000, 0.0000, 0.0000, 0.0000, 0.0000, 0.0000, 0.0000, 0.0000,\n",
              "           0.0000, 0.0000, 0.0000, 0.0000],\n",
              "          [0.0000, 0.0000, 0.0000, 0.0784, 0.4824, 0.8627, 0.9961, 0.9961,\n",
              "           0.9961, 1.0000, 1.0000, 1.0000, 0.9725, 0.6471, 0.1451, 0.0824,\n",
              "           0.1255, 0.0353, 0.0157, 0.0157, 0.0157, 0.0157, 0.0000, 0.0000,\n",
              "           0.0000, 0.0000, 0.0000, 0.0000],\n",
              "          [0.0000, 0.0000, 0.0000, 0.3922, 0.9333, 0.9961, 1.0000, 1.0000,\n",
              "           1.0000, 1.0000, 1.0000, 1.0000, 0.9961, 0.9922, 0.9216, 0.9176,\n",
              "           0.9608, 0.8706, 0.8510, 0.8510, 0.8510, 0.7961, 0.4510, 0.1255,\n",
              "           0.0000, 0.0000, 0.0000, 0.0000],\n",
              "          [0.0000, 0.0000, 0.0000, 0.1294, 0.6392, 0.9569, 0.9961, 0.9961,\n",
              "           0.9961, 1.0000, 1.0000, 1.0000, 1.0000, 0.9961, 0.9961, 0.9961,\n",
              "           0.9961, 0.9961, 0.9961, 0.9961, 0.9961, 0.9961, 0.9412, 0.4353,\n",
              "           0.0118, 0.0000, 0.0000, 0.0000],\n",
              "          [0.0000, 0.0000, 0.0000, 0.0039, 0.1294, 0.4941, 0.8471, 0.9137,\n",
              "           0.9804, 0.9961, 1.0000, 1.0000, 1.0000, 1.0000, 1.0000, 1.0000,\n",
              "           1.0000, 1.0000, 1.0000, 1.0000, 0.9961, 0.9961, 0.9137, 0.3216,\n",
              "           0.0078, 0.0000, 0.0000, 0.0000],\n",
              "          [0.0000, 0.0000, 0.0000, 0.0000, 0.0000, 0.0000, 0.0196, 0.0863,\n",
              "           0.3216, 0.9843, 1.0000, 1.0000, 1.0000, 1.0000, 1.0000, 1.0000,\n",
              "           0.9961, 0.9961, 0.9804, 0.9137, 0.8510, 0.7961, 0.4314, 0.0706,\n",
              "           0.0000, 0.0000, 0.0000, 0.0000],\n",
              "          [0.0000, 0.0000, 0.0000, 0.0000, 0.0000, 0.0000, 0.0000, 0.0392,\n",
              "           0.5020, 0.9961, 1.0000, 1.0000, 0.9961, 0.9961, 0.9961, 0.9961,\n",
              "           0.9647, 0.8157, 0.5490, 0.3216, 0.1529, 0.1255, 0.0157, 0.0000,\n",
              "           0.0000, 0.0000, 0.0000, 0.0000],\n",
              "          [0.0000, 0.0000, 0.0000, 0.0000, 0.0000, 0.0000, 0.0863, 0.3725,\n",
              "           0.8667, 0.9961, 1.0000, 0.9961, 0.9922, 0.9176, 0.8510, 0.8431,\n",
              "           0.4980, 0.1804, 0.0353, 0.0078, 0.0000, 0.0000, 0.0000, 0.0000,\n",
              "           0.0000, 0.0000, 0.0000, 0.0000],\n",
              "          [0.0000, 0.0000, 0.0000, 0.0000, 0.0000, 0.0118, 0.6039, 0.9098,\n",
              "           0.9922, 0.9961, 0.9961, 0.9882, 0.8118, 0.3725, 0.1529, 0.1451,\n",
              "           0.0314, 0.0000, 0.0000, 0.0000, 0.0000, 0.0000, 0.0000, 0.0000,\n",
              "           0.0000, 0.0000, 0.0000, 0.0000],\n",
              "          [0.0000, 0.0000, 0.0000, 0.0000, 0.0078, 0.3020, 0.9686, 0.9961,\n",
              "           1.0000, 0.9961, 0.9490, 0.5137, 0.0353, 0.0000, 0.0000, 0.0000,\n",
              "           0.0000, 0.0000, 0.0000, 0.0000, 0.0000, 0.0000, 0.0000, 0.0000,\n",
              "           0.0000, 0.0000, 0.0000, 0.0000],\n",
              "          [0.0000, 0.0000, 0.0000, 0.0000, 0.0157, 0.4902, 0.9961, 0.9961,\n",
              "           0.9882, 0.9098, 0.5137, 0.1255, 0.0000, 0.0000, 0.0000, 0.0000,\n",
              "           0.0000, 0.0000, 0.0000, 0.0000, 0.0000, 0.0000, 0.0000, 0.0000,\n",
              "           0.0000, 0.0000, 0.0000, 0.0000],\n",
              "          [0.0000, 0.0000, 0.0000, 0.0000, 0.0157, 0.4431, 0.9922, 0.9647,\n",
              "           0.6941, 0.4275, 0.0863, 0.0000, 0.0000, 0.0000, 0.0000, 0.0000,\n",
              "           0.0000, 0.0000, 0.0000, 0.0000, 0.0000, 0.0000, 0.0000, 0.0000,\n",
              "           0.0000, 0.0000, 0.0000, 0.0000],\n",
              "          [0.0000, 0.0000, 0.0000, 0.0000, 0.0000, 0.0314, 0.4353, 0.3020,\n",
              "           0.0314, 0.0000, 0.0000, 0.0000, 0.0000, 0.0000, 0.0000, 0.0000,\n",
              "           0.0000, 0.0000, 0.0000, 0.0000, 0.0000, 0.0000, 0.0000, 0.0000,\n",
              "           0.0000, 0.0000, 0.0000, 0.0000],\n",
              "          [0.0000, 0.0000, 0.0000, 0.0000, 0.0000, 0.0000, 0.0118, 0.0078,\n",
              "           0.0000, 0.0000, 0.0000, 0.0000, 0.0000, 0.0000, 0.0000, 0.0000,\n",
              "           0.0000, 0.0000, 0.0000, 0.0000, 0.0000, 0.0000, 0.0000, 0.0000,\n",
              "           0.0000, 0.0000, 0.0000, 0.0000],\n",
              "          [0.0000, 0.0000, 0.0000, 0.0000, 0.0000, 0.0000, 0.0000, 0.0000,\n",
              "           0.0000, 0.0000, 0.0000, 0.0000, 0.0000, 0.0000, 0.0000, 0.0000,\n",
              "           0.0000, 0.0000, 0.0000, 0.0000, 0.0000, 0.0000, 0.0000, 0.0000,\n",
              "           0.0000, 0.0000, 0.0000, 0.0000],\n",
              "          [0.0000, 0.0000, 0.0000, 0.0000, 0.0000, 0.0000, 0.0000, 0.0000,\n",
              "           0.0000, 0.0000, 0.0000, 0.0000, 0.0000, 0.0000, 0.0000, 0.0000,\n",
              "           0.0000, 0.0000, 0.0000, 0.0000, 0.0000, 0.0000, 0.0000, 0.0000,\n",
              "           0.0000, 0.0000, 0.0000, 0.0000]]]),\n",
              " 23)"
            ]
          },
          "metadata": {},
          "execution_count": 40
        }
      ]
    },
    {
      "cell_type": "code",
      "metadata": {
        "id": "Ugs7VGYLqIHn",
        "colab": {
          "base_uri": "https://localhost:8080/"
        },
        "outputId": "a4beeede-2e2c-4233-fb5a-7f17a98dd65a"
      },
      "source": [
        "dataset[1]"
      ],
      "execution_count": 41,
      "outputs": [
        {
          "output_type": "execute_result",
          "data": {
            "text/plain": [
              "(tensor([[[0.0000, 0.0000, 0.0000, 0.0000, 0.0000, 0.0000, 0.0000, 0.0000,\n",
              "           0.0000, 0.0000, 0.0000, 0.0000, 0.0000, 0.0000, 0.0000, 0.0000,\n",
              "           0.0000, 0.0000, 0.0000, 0.0000, 0.0000, 0.0000, 0.0000, 0.0000,\n",
              "           0.0000, 0.0000, 0.0000, 0.0000],\n",
              "          [0.0000, 0.0000, 0.0000, 0.0000, 0.0000, 0.0000, 0.0000, 0.0000,\n",
              "           0.0000, 0.0000, 0.0000, 0.0000, 0.0000, 0.0000, 0.0000, 0.0000,\n",
              "           0.0000, 0.0000, 0.0000, 0.0000, 0.0000, 0.0000, 0.0000, 0.0000,\n",
              "           0.0000, 0.0000, 0.0000, 0.0000],\n",
              "          [0.0000, 0.0000, 0.0000, 0.0000, 0.0000, 0.0000, 0.0000, 0.0000,\n",
              "           0.0000, 0.0000, 0.0000, 0.0000, 0.0000, 0.0118, 0.0314, 0.1255,\n",
              "           0.1451, 0.1451, 0.1451, 0.1451, 0.1451, 0.0784, 0.0275, 0.0000,\n",
              "           0.0000, 0.0000, 0.0000, 0.0000],\n",
              "          [0.0000, 0.0000, 0.0000, 0.0000, 0.0000, 0.0000, 0.0000, 0.0000,\n",
              "           0.0000, 0.0000, 0.0000, 0.0000, 0.0157, 0.0863, 0.1804, 0.4471,\n",
              "           0.4980, 0.4980, 0.4980, 0.4980, 0.4902, 0.3020, 0.1255, 0.0000,\n",
              "           0.0000, 0.0000, 0.0000, 0.0000],\n",
              "          [0.0000, 0.0000, 0.0000, 0.0000, 0.0000, 0.0000, 0.0000, 0.0000,\n",
              "           0.0000, 0.0039, 0.0863, 0.1804, 0.4510, 0.6745, 0.8157, 0.9608,\n",
              "           0.9804, 0.9804, 0.9804, 0.9804, 0.9765, 0.8078, 0.4941, 0.0314,\n",
              "           0.0000, 0.0000, 0.0000, 0.0000],\n",
              "          [0.0000, 0.0000, 0.0000, 0.0000, 0.0000, 0.0000, 0.0000, 0.0000,\n",
              "           0.0118, 0.1412, 0.6235, 0.8118, 0.9608, 0.9882, 0.9961, 0.9961,\n",
              "           0.9961, 1.0000, 1.0000, 0.9961, 0.9961, 0.9608, 0.8000, 0.1333,\n",
              "           0.0000, 0.0000, 0.0000, 0.0000],\n",
              "          [0.0000, 0.0000, 0.0000, 0.0000, 0.0000, 0.0000, 0.0000, 0.0275,\n",
              "           0.0863, 0.3725, 0.8549, 0.9569, 0.9961, 0.9961, 0.9961, 0.9961,\n",
              "           1.0000, 1.0000, 1.0000, 1.0000, 0.9961, 0.9804, 0.8627, 0.1961,\n",
              "           0.0000, 0.0000, 0.0000, 0.0000],\n",
              "          [0.0000, 0.0000, 0.0000, 0.0000, 0.0000, 0.0039, 0.0314, 0.3529,\n",
              "           0.6235, 0.9098, 0.9922, 0.9961, 0.9961, 0.9843, 0.9804, 0.9804,\n",
              "           0.9804, 0.9804, 0.9804, 0.9961, 0.9961, 0.9961, 0.9608, 0.4471,\n",
              "           0.0157, 0.0000, 0.0000, 0.0000],\n",
              "          [0.0000, 0.0000, 0.0000, 0.0000, 0.0000, 0.0784, 0.3020, 0.8549,\n",
              "           0.9608, 0.9961, 0.9961, 0.9961, 0.9176, 0.5686, 0.5059, 0.4980,\n",
              "           0.4980, 0.4980, 0.5529, 0.8706, 0.9686, 0.9961, 0.9804, 0.5059,\n",
              "           0.0196, 0.0000, 0.0000, 0.0000],\n",
              "          [0.0000, 0.0000, 0.0000, 0.0000, 0.0000, 0.1333, 0.4510, 0.9529,\n",
              "           0.9922, 0.9961, 0.9882, 0.9804, 0.8118, 0.2510, 0.1608, 0.1490,\n",
              "           0.1608, 0.1569, 0.2078, 0.6902, 0.9098, 0.9961, 0.9804, 0.5529,\n",
              "           0.0431, 0.0039, 0.0000, 0.0000],\n",
              "          [0.0000, 0.0000, 0.0000, 0.0000, 0.0118, 0.3294, 0.6745, 0.9882,\n",
              "           0.9961, 0.9843, 0.7412, 0.5647, 0.3020, 0.0431, 0.0549, 0.1490,\n",
              "           0.3882, 0.2980, 0.0471, 0.3294, 0.6745, 0.9882, 0.9961, 0.8627,\n",
              "           0.3020, 0.0784, 0.0000, 0.0000],\n",
              "          [0.0000, 0.0000, 0.0000, 0.0000, 0.0824, 0.6667, 0.9098, 0.9961,\n",
              "           0.9961, 0.8627, 0.3294, 0.1569, 0.1176, 0.0745, 0.2039, 0.6667,\n",
              "           0.9255, 0.8353, 0.2588, 0.1412, 0.4510, 0.9608, 0.9961, 0.9765,\n",
              "           0.4902, 0.1451, 0.0000, 0.0000],\n",
              "          [0.0000, 0.0000, 0.0000, 0.0000, 0.1333, 0.8000, 0.9608, 0.9961,\n",
              "           0.9882, 0.6941, 0.1843, 0.2039, 0.2941, 0.0863, 0.1843, 0.8118,\n",
              "           0.9804, 0.9059, 0.3216, 0.0902, 0.3216, 0.9137, 0.9882, 0.9804,\n",
              "           0.4980, 0.1451, 0.0000, 0.0000],\n",
              "          [0.0000, 0.0000, 0.0000, 0.0078, 0.3216, 0.9137, 0.9882, 0.9961,\n",
              "           0.9843, 0.5608, 0.0706, 0.0745, 0.1059, 0.1020, 0.3255, 0.9137,\n",
              "           0.9961, 0.9647, 0.4510, 0.0314, 0.1333, 0.8000, 0.9608, 0.9804,\n",
              "           0.4980, 0.1451, 0.0000, 0.0000],\n",
              "          [0.0000, 0.0000, 0.0000, 0.0157, 0.4902, 0.9765, 0.9961, 0.9961,\n",
              "           0.9961, 0.8667, 0.4196, 0.2000, 0.0078, 0.1451, 0.4902, 0.9765,\n",
              "           0.9961, 0.9804, 0.5059, 0.0392, 0.0549, 0.5608, 0.8706, 0.9765,\n",
              "           0.4902, 0.1451, 0.0000, 0.0000],\n",
              "          [0.0000, 0.0000, 0.0000, 0.0196, 0.5059, 0.9804, 0.9961, 0.9961,\n",
              "           0.9961, 0.9137, 0.3608, 0.1255, 0.0000, 0.1451, 0.4980, 0.9804,\n",
              "           0.9961, 0.9882, 0.7490, 0.5059, 0.5059, 0.7490, 0.9255, 0.9137,\n",
              "           0.3216, 0.0824, 0.0000, 0.0000],\n",
              "          [0.0000, 0.0000, 0.0000, 0.0353, 0.5490, 0.9804, 0.9961, 1.0000,\n",
              "           0.9961, 0.8706, 0.2039, 0.0431, 0.0000, 0.1529, 0.5059, 0.9804,\n",
              "           0.9961, 0.9961, 0.9255, 0.8549, 0.8549, 0.9255, 0.9765, 0.8627,\n",
              "           0.1961, 0.0353, 0.0000, 0.0000],\n",
              "          [0.0000, 0.0000, 0.0157, 0.1255, 0.7961, 0.9961, 0.9961, 1.0000,\n",
              "           0.9961, 0.8510, 0.1647, 0.0510, 0.1255, 0.3961, 0.6941, 0.9882,\n",
              "           0.9961, 0.9961, 0.9961, 0.9961, 0.9961, 0.9961, 0.9843, 0.6667,\n",
              "           0.0824, 0.0078, 0.0000, 0.0000],\n",
              "          [0.0000, 0.0000, 0.0157, 0.1255, 0.7961, 0.9961, 0.9961, 0.9961,\n",
              "           0.9961, 0.8980, 0.5059, 0.4588, 0.5490, 0.8314, 0.9412, 0.9961,\n",
              "           1.0000, 0.9961, 0.9961, 0.9961, 0.9961, 0.9725, 0.8706, 0.3098,\n",
              "           0.0118, 0.0000, 0.0000, 0.0000],\n",
              "          [0.0000, 0.0000, 0.0078, 0.0824, 0.6824, 0.9882, 0.9961, 0.9961,\n",
              "           0.9922, 0.8510, 0.5922, 0.5804, 0.3961, 0.6824, 0.8706, 0.9961,\n",
              "           0.9961, 0.9961, 0.9961, 0.9804, 0.9804, 0.9255, 0.7373, 0.1490,\n",
              "           0.0000, 0.0000, 0.0000, 0.0000],\n",
              "          [0.0000, 0.0000, 0.0078, 0.0824, 0.6745, 0.9882, 0.9961, 0.9686,\n",
              "           0.8667, 0.3608, 0.1020, 0.1059, 0.0314, 0.2078, 0.5529, 0.9804,\n",
              "           0.9961, 0.9961, 0.8706, 0.5529, 0.5098, 0.5961, 0.5020, 0.0627,\n",
              "           0.0000, 0.0000, 0.0000, 0.0000],\n",
              "          [0.0000, 0.0000, 0.0078, 0.0784, 0.6667, 0.9882, 0.9922, 0.8118,\n",
              "           0.4980, 0.0392, 0.0000, 0.0000, 0.0000, 0.1451, 0.4902, 0.9765,\n",
              "           0.9961, 0.9804, 0.5451, 0.0510, 0.0235, 0.0627, 0.0588, 0.0039,\n",
              "           0.0000, 0.0000, 0.0000, 0.0000],\n",
              "          [0.0000, 0.0000, 0.0000, 0.0353, 0.5490, 0.9804, 0.9686, 0.6235,\n",
              "           0.3098, 0.0118, 0.0000, 0.0000, 0.0000, 0.1255, 0.4431, 0.9529,\n",
              "           0.9922, 0.9529, 0.4510, 0.0157, 0.0000, 0.0039, 0.0039, 0.0000,\n",
              "           0.0000, 0.0000, 0.0000, 0.0000],\n",
              "          [0.0000, 0.0000, 0.0000, 0.0157, 0.4902, 0.9294, 0.8078, 0.1843,\n",
              "           0.0392, 0.0000, 0.0000, 0.0000, 0.0000, 0.0275, 0.1294, 0.6196,\n",
              "           0.7843, 0.6196, 0.1294, 0.0000, 0.0000, 0.0000, 0.0000, 0.0000,\n",
              "           0.0000, 0.0000, 0.0000, 0.0000],\n",
              "          [0.0000, 0.0000, 0.0000, 0.0078, 0.2471, 0.4353, 0.2980, 0.0275,\n",
              "           0.0000, 0.0000, 0.0000, 0.0000, 0.0000, 0.0000, 0.0039, 0.0784,\n",
              "           0.1255, 0.0784, 0.0039, 0.0000, 0.0000, 0.0000, 0.0000, 0.0000,\n",
              "           0.0000, 0.0000, 0.0000, 0.0000],\n",
              "          [0.0000, 0.0000, 0.0000, 0.0000, 0.0706, 0.1255, 0.0784, 0.0039,\n",
              "           0.0000, 0.0000, 0.0000, 0.0000, 0.0000, 0.0000, 0.0000, 0.0078,\n",
              "           0.0118, 0.0078, 0.0000, 0.0000, 0.0000, 0.0000, 0.0000, 0.0000,\n",
              "           0.0000, 0.0000, 0.0000, 0.0000],\n",
              "          [0.0000, 0.0000, 0.0000, 0.0000, 0.0000, 0.0000, 0.0000, 0.0000,\n",
              "           0.0000, 0.0000, 0.0000, 0.0000, 0.0000, 0.0000, 0.0000, 0.0000,\n",
              "           0.0000, 0.0000, 0.0000, 0.0000, 0.0000, 0.0000, 0.0000, 0.0000,\n",
              "           0.0000, 0.0000, 0.0000, 0.0000],\n",
              "          [0.0000, 0.0000, 0.0000, 0.0000, 0.0000, 0.0000, 0.0000, 0.0000,\n",
              "           0.0000, 0.0000, 0.0000, 0.0000, 0.0000, 0.0000, 0.0000, 0.0000,\n",
              "           0.0000, 0.0000, 0.0000, 0.0000, 0.0000, 0.0000, 0.0000, 0.0000,\n",
              "           0.0000, 0.0000, 0.0000, 0.0000]]]),\n",
              " 7)"
            ]
          },
          "metadata": {},
          "execution_count": 41
        }
      ]
    },
    {
      "cell_type": "markdown",
      "metadata": {
        "id": "aVhhAvZH82m_"
      },
      "source": [
        "The first two datapoints of the training dataset are the letters 'w' (23rd alphabet) and 'g' (7th alphabet)"
      ]
    },
    {
      "cell_type": "code",
      "metadata": {
        "id": "5gcN8YI9sfLf"
      },
      "source": [
        "import matplotlib.pyplot as plt\n",
        "%matplotlib inline"
      ],
      "execution_count": 25,
      "outputs": []
    },
    {
      "cell_type": "code",
      "metadata": {
        "id": "dhCvRxuooGkq",
        "colab": {
          "base_uri": "https://localhost:8080/"
        },
        "outputId": "96bf9c5c-813c-4c31-e640-40bae915dcbc"
      },
      "source": [
        "classes = dataset.classes\n",
        "classes"
      ],
      "execution_count": 42,
      "outputs": [
        {
          "output_type": "execute_result",
          "data": {
            "text/plain": [
              "['N/A',\n",
              " 'a',\n",
              " 'b',\n",
              " 'c',\n",
              " 'd',\n",
              " 'e',\n",
              " 'f',\n",
              " 'g',\n",
              " 'h',\n",
              " 'i',\n",
              " 'j',\n",
              " 'k',\n",
              " 'l',\n",
              " 'm',\n",
              " 'n',\n",
              " 'o',\n",
              " 'p',\n",
              " 'q',\n",
              " 'r',\n",
              " 's',\n",
              " 't',\n",
              " 'u',\n",
              " 'v',\n",
              " 'w',\n",
              " 'x',\n",
              " 'y',\n",
              " 'z']"
            ]
          },
          "metadata": {},
          "execution_count": 42
        }
      ]
    },
    {
      "cell_type": "markdown",
      "metadata": {
        "id": "fFiPIp_boUym"
      },
      "source": [
        "The 26 classes are all the letters of the english alphabet."
      ]
    },
    {
      "cell_type": "code",
      "metadata": {
        "id": "sdADeXWVqZ8i"
      },
      "source": [
        "image, label = dataset[2]\n",
        "label -= 1\n",
        "plt.imshow(image, cmap='gray')\n",
        "print(image)\n",
        "print(classes[label])"
      ],
      "execution_count": null,
      "outputs": []
    },
    {
      "cell_type": "code",
      "metadata": {
        "id": "sP1AFQTiqaYQ"
      },
      "source": [
        "image, label = dataset[3]\n",
        "label -= 1\n",
        "plt.imshow(image, cmap='gray')\n",
        "print(classes[label])"
      ],
      "execution_count": null,
      "outputs": []
    },
    {
      "cell_type": "markdown",
      "metadata": {
        "id": "yfrEC3OxuCXp"
      },
      "source": [
        "#### Transforming the images in the dataset to tensors\n",
        "To work with data points and perform operations on them, we need to convert them to tensors."
      ]
    },
    {
      "cell_type": "code",
      "metadata": {
        "id": "4O43ev7Utb7C"
      },
      "source": [
        "import torchvision.transforms as transforms"
      ],
      "execution_count": 3,
      "outputs": []
    },
    {
      "cell_type": "code",
      "metadata": {
        "id": "YZS2M8g3uA_0",
        "colab": {
          "base_uri": "https://localhost:8080/"
        },
        "outputId": "2db7f107-ba54-4996-9c3f-9931541db177"
      },
      "source": [
        "dataset = EMNIST(root='data/', train=True, transform=transforms.ToTensor(), split='letters')\n",
        "len(dataset)"
      ],
      "execution_count": 4,
      "outputs": [
        {
          "output_type": "execute_result",
          "data": {
            "text/plain": [
              "124800"
            ]
          },
          "metadata": {},
          "execution_count": 4
        }
      ]
    },
    {
      "cell_type": "markdown",
      "metadata": {
        "id": "j1YShb6zuYna"
      },
      "source": [
        "#### Exploring the image tensors\n",
        "Each data point has two parts: the image tensor and it's label.\n",
        "The shape of the image tensor is [1, 28, 28], signifying that it only consists of one channel(lightness channel, L, since it's a grayscale image), conveyed by the first dimension; and the size of the image that 28x28 pixels, as conveyed by the subsequent 2 dimensions"
      ]
    },
    {
      "cell_type": "code",
      "metadata": {
        "id": "asptGdV7qskZ"
      },
      "source": [
        "img_tensor, labels = dataset[0]\n",
        "print(img_tensor.shape, labels-1)"
      ],
      "execution_count": null,
      "outputs": []
    },
    {
      "cell_type": "code",
      "metadata": {
        "id": "3HH5bh8Aqs72"
      },
      "source": [
        "img_tensor, labels = dataset[1]\n",
        "print(img_tensor.shape, labels-1)"
      ],
      "execution_count": null,
      "outputs": []
    },
    {
      "cell_type": "code",
      "metadata": {
        "id": "AbOKguJEq2Dn"
      },
      "source": [
        "img_tensor, labels = dataset[2]\n",
        "print(img_tensor, labels-1)"
      ],
      "execution_count": null,
      "outputs": []
    },
    {
      "cell_type": "markdown",
      "metadata": {
        "id": "XpURZB2muwvT"
      },
      "source": [
        "#### Why do we need a validation set?\n",
        "We need a validation set to check our model before finally testing it on the test dataset. It helps us to change hyperparameters accordingly to get the best results, and then pick the best version of the model before reporting the final results.\n",
        "\n",
        "#### Create validation set from the training set\n",
        "We take the 1% of the training set as our validation set in this notebook, though any small percentage can be taken. The validation set is created by randomly splitting the training dataset into two parts of suitable size. The random split plays a major role here as, if we split it in order, the training dataset might not have some classes at all, and since the model was never trained for those classes which got divided into the validation set, the model will never be able to guess them. Which means, even after training our model, our model's accuracy on the validation set will always be zero."
      ]
    },
    {
      "cell_type": "code",
      "metadata": {
        "id": "EdO1T0osupKG",
        "colab": {
          "base_uri": "https://localhost:8080/"
        },
        "outputId": "c1725fae-e597-4c0c-e8ff-f46a2560f571"
      },
      "source": [
        "from torch.utils.data import random_split\n",
        "\n",
        "val_per = 0.1\n",
        "val_len = int(val_per*len(dataset))\n",
        "train_ds, val_ds = random_split(dataset, [len(dataset)-val_len, val_len])\n",
        "print(len(train_ds), len(val_ds))"
      ],
      "execution_count": 5,
      "outputs": [
        {
          "output_type": "stream",
          "name": "stdout",
          "text": [
            "112320 12480\n"
          ]
        }
      ]
    },
    {
      "cell_type": "markdown",
      "metadata": {
        "id": "k1f8C6IivG3z"
      },
      "source": [
        "#### Load the training and validation data in batches\n",
        "We use the DataLoader to load the training and validation dataset with a batch size of 128 data points. We shuffle the training dataset because the most randomized inputs produce the most general model, which is favourable. However, we do not shuffle the validation dataset as, we cannot compare different evaluations if the dataset on which we are evaluating is not the same."
      ]
    },
    {
      "cell_type": "code",
      "metadata": {
        "id": "YkYLpztUu-sX",
        "colab": {
          "base_uri": "https://localhost:8080/"
        },
        "outputId": "20a08d97-538e-47e5-f1cf-774253da4ff1"
      },
      "source": [
        "from torch.utils.data import DataLoader\n",
        "\n",
        "batch_size = 128\n",
        "\n",
        "train_load = DataLoader(train_ds, batch_size, shuffle=True, num_workers=4, pin_memory=True)\n",
        "val_load = DataLoader(val_ds, batch_size, num_workers=4, pin_memory=True)"
      ],
      "execution_count": 6,
      "outputs": [
        {
          "output_type": "stream",
          "name": "stderr",
          "text": [
            "/usr/local/lib/python3.10/dist-packages/torch/utils/data/dataloader.py:617: UserWarning: This DataLoader will create 4 worker processes in total. Our suggested max number of worker in current system is 2, which is smaller than what this DataLoader is going to create. Please be aware that excessive worker creation might get DataLoader running slow or even freeze, lower the worker number to avoid potential slowness/freeze if necessary.\n",
            "  warnings.warn(\n"
          ]
        }
      ]
    },
    {
      "cell_type": "markdown",
      "metadata": {
        "id": "PlMXMNyuTdH-"
      },
      "source": [
        "#### Using a GPU\n",
        "If a GPU(cuda) is available, get_default_device will return it, else cpu. The function to_device moves the data to the specified device in the argument. The class DeviceDataLoader has functions to load the data to the device."
      ]
    },
    {
      "cell_type": "code",
      "metadata": {
        "id": "lin4u5j0TqbS"
      },
      "source": [
        "def get_default_device():\n",
        "    \"\"\"Pick GPU if available, else CPU\"\"\"\n",
        "    if torch.cuda.is_available():\n",
        "        return torch.device('cuda')\n",
        "    else:\n",
        "        return torch.device('cpu')\n",
        "\n",
        "def to_device(data, device):\n",
        "    \"\"\"Move tensor(s) to chosen device\"\"\"\n",
        "    if isinstance(data, (list,tuple)):\n",
        "        return [to_device(x, device) for x in data]\n",
        "    return data.to(device, non_blocking=True)\n",
        "\n",
        "class DeviceDataLoader():\n",
        "    \"\"\"Wrap a dataloader to move data to a device\"\"\"\n",
        "    def __init__(self, dl, device):\n",
        "        self.dl = dl\n",
        "        self.device = device\n",
        "\n",
        "    def __iter__(self):\n",
        "        \"\"\"Yield a batch of data after moving it to device\"\"\"\n",
        "        for b in self.dl:\n",
        "            yield to_device(b, self.device)\n",
        "\n",
        "    def __len__(self):\n",
        "        \"\"\"Number of batches\"\"\"\n",
        "        return len(self.dl)"
      ],
      "execution_count": 7,
      "outputs": []
    },
    {
      "cell_type": "code",
      "metadata": {
        "id": "RKQIPqF6U_6f",
        "colab": {
          "base_uri": "https://localhost:8080/"
        },
        "outputId": "19f2d040-105e-470c-f996-38381275c68c"
      },
      "source": [
        "device = get_default_device()\n",
        "device"
      ],
      "execution_count": 8,
      "outputs": [
        {
          "output_type": "execute_result",
          "data": {
            "text/plain": [
              "device(type='cuda')"
            ]
          },
          "metadata": {},
          "execution_count": 8
        }
      ]
    },
    {
      "cell_type": "markdown",
      "metadata": {
        "id": "Al6E1TboVFW_"
      },
      "source": [
        "The default device is cuda, since the Accelerator is set to GPU."
      ]
    },
    {
      "cell_type": "code",
      "metadata": {
        "id": "VUqcx7lURmFI"
      },
      "source": [
        "train_load = DeviceDataLoader(train_load, device)\n",
        "val_load = DeviceDataLoader(val_load, device)"
      ],
      "execution_count": 9,
      "outputs": []
    },
    {
      "cell_type": "markdown",
      "metadata": {
        "id": "ooZeazNbvgm0"
      },
      "source": [
        "#### Creating a convolutional neural network"
      ]
    },
    {
      "cell_type": "markdown",
      "metadata": {
        "id": "MdcDcl61Zjag"
      },
      "source": [
        "Since the input and output sizes should be scalar integers for us to implement regression on them, input size can't be in the form of [28, 28], therefore, it is 28*28 = 784 (number of pixels in the image if we flatten the image). And output size is clearly 26, because the image will be classified into one of the 26 classes."
      ]
    },
    {
      "cell_type": "code",
      "metadata": {
        "id": "hmiMQaokvZH7"
      },
      "source": [
        "from torch import nn\n",
        "\n",
        "input_size = 28*28\n",
        "output_size = 26"
      ],
      "execution_count": 10,
      "outputs": []
    },
    {
      "cell_type": "markdown",
      "metadata": {
        "id": "X3rfJjGua40P"
      },
      "source": [
        "We extend the nn.Module class to define our EmnistModel. It is a ResNet architecture with 2 residual blocks. After 2 layers of convolution, batch normalization and activation function(max pooling too, in the second layer of those), we pass the output to a residual block which adds the initial output to the output obtained after 2 layers of convolution and activation. We repeat the same process again, and then flatten the output and apply 2 linear layers to get the required output size.\n",
        "\n",
        "Then we have the training step where we use the cross_entropy loss function on the predictions and targets to calculate the loss for the training dataset. In the validation step, we also calculate the accuracy of the model along with the loss on the validation set.\n",
        "\n",
        "In the last two functions, we combine the validation losses and accuracies after each epoch, so that we can track the progress of the training."
      ]
    },
    {
      "cell_type": "code",
      "metadata": {
        "id": "7T02H5h_vpKO"
      },
      "source": [
        "class EmnistModel(nn.Module):\n",
        "    def __init__(self):\n",
        "        super().__init__()\n",
        "        self.conv1 = nn.Sequential(nn.Conv2d(1, 32, kernel_size=3, padding=1),\n",
        "                                  nn.BatchNorm2d(32),\n",
        "                                  nn.ReLU(inplace=True)) #32*28*28\n",
        "        self.conv2 = nn.Sequential(nn.Conv2d(32, 64, kernel_size=3, padding=1),\n",
        "                                  nn.BatchNorm2d(64),\n",
        "                                  nn.ReLU(inplace=True),\n",
        "                                  nn.MaxPool2d(2)) #64*14*14\n",
        "        self.res1 = nn.Sequential(nn.Conv2d(64, 64, kernel_size=3, padding=1),\n",
        "                                  nn.ReLU(inplace=True),\n",
        "                                  nn.Conv2d(64, 64, kernel_size=3, padding=1),\n",
        "                                  nn.ReLU(inplace=True)) #64*14*14\n",
        "        self.conv3 = nn.Sequential(nn.Conv2d(64, 128, kernel_size=3, padding=1),\n",
        "                                  nn.BatchNorm2d(128),\n",
        "                                  nn.ReLU(inplace=True)) #128*14*14\n",
        "        self.conv4 = nn.Sequential(nn.Conv2d(128, 256, kernel_size=3, padding=1),\n",
        "                                  nn.BatchNorm2d(256),\n",
        "                                  nn.ReLU(inplace=True),\n",
        "                                  nn.MaxPool2d(2)) #256*7*7\n",
        "        self.res2 = nn.Sequential(nn.Conv2d(256, 256, kernel_size=3, padding=1),\n",
        "                                  nn.ReLU(inplace=True),\n",
        "                                  nn.Conv2d(256, 256, kernel_size=3, padding=1),\n",
        "                                  nn.ReLU(inplace=True)) #256*7*7\n",
        "        self.classifier = nn.Sequential(nn.Flatten(),\n",
        "                          nn.Linear(256*7*7, 1024),\n",
        "                          nn.ReLU(),\n",
        "                          nn.Linear(1024, 256),\n",
        "                          nn.ReLU(),\n",
        "                          nn.Linear(256, 26)\n",
        "        )\n",
        "\n",
        "    def forward(self, xb):\n",
        "        out = self.conv1(xb)\n",
        "        out = self.conv2(out)\n",
        "        out = self.res1(out) + out\n",
        "        out = self.conv3(out)\n",
        "        out = self.conv4(out)\n",
        "        out = self.res2(out) + out\n",
        "        out = self.classifier(out)\n",
        "        return out\n",
        "\n",
        "    def training_step(self, batch):\n",
        "        images, label = batch\n",
        "        labels = to_device(torch.tensor([x-1 for x in label]), device)\n",
        "        out = self(images)                  # Generate predictions\n",
        "        loss = F.cross_entropy(out, labels) # Calculate loss\n",
        "        return loss\n",
        "\n",
        "    def validation_step(self, batch):\n",
        "        images, label = batch\n",
        "        labels = to_device(torch.tensor([x-1 for x in label]), device)\n",
        "        out = self(images)                    # Generate predictions\n",
        "        loss = F.cross_entropy(out, labels)   # Calculate loss\n",
        "        acc = accuracy(out, labels)           # Calculate accuracy\n",
        "        return {'val_loss': loss, 'val_acc': acc}\n",
        "\n",
        "    def validation_epoch_end(self, outputs):\n",
        "        batch_losses = [x['val_loss'] for x in outputs]\n",
        "        epoch_loss = torch.stack(batch_losses).mean()   # Combine losses\n",
        "        batch_accs = [x['val_acc'] for x in outputs]\n",
        "        epoch_acc = torch.stack(batch_accs).mean()      # Combine accuracies\n",
        "        return {'val_loss': epoch_loss.item(), 'val_acc': epoch_acc.item()}\n",
        "\n",
        "    def epoch_end(self, epoch, result):\n",
        "        print(\"Epoch [{}], val_loss: {:.4f}, train_loss: {:.4f}, val_acc: {:.4f}\".format(epoch, result['val_loss'], result['train_loss'], result['val_acc']))"
      ],
      "execution_count": 11,
      "outputs": []
    },
    {
      "cell_type": "code",
      "metadata": {
        "id": "ew17xcKLv1V7",
        "colab": {
          "base_uri": "https://localhost:8080/"
        },
        "outputId": "9d550588-32e1-4ec9-a141-e01b0a8a03d1"
      },
      "source": [
        "model = EmnistModel()\n",
        "to_device(model, device)"
      ],
      "execution_count": 12,
      "outputs": [
        {
          "output_type": "execute_result",
          "data": {
            "text/plain": [
              "EmnistModel(\n",
              "  (conv1): Sequential(\n",
              "    (0): Conv2d(1, 32, kernel_size=(3, 3), stride=(1, 1), padding=(1, 1))\n",
              "    (1): BatchNorm2d(32, eps=1e-05, momentum=0.1, affine=True, track_running_stats=True)\n",
              "    (2): ReLU(inplace=True)\n",
              "  )\n",
              "  (conv2): Sequential(\n",
              "    (0): Conv2d(32, 64, kernel_size=(3, 3), stride=(1, 1), padding=(1, 1))\n",
              "    (1): BatchNorm2d(64, eps=1e-05, momentum=0.1, affine=True, track_running_stats=True)\n",
              "    (2): ReLU(inplace=True)\n",
              "    (3): MaxPool2d(kernel_size=2, stride=2, padding=0, dilation=1, ceil_mode=False)\n",
              "  )\n",
              "  (res1): Sequential(\n",
              "    (0): Conv2d(64, 64, kernel_size=(3, 3), stride=(1, 1), padding=(1, 1))\n",
              "    (1): ReLU(inplace=True)\n",
              "    (2): Conv2d(64, 64, kernel_size=(3, 3), stride=(1, 1), padding=(1, 1))\n",
              "    (3): ReLU(inplace=True)\n",
              "  )\n",
              "  (conv3): Sequential(\n",
              "    (0): Conv2d(64, 128, kernel_size=(3, 3), stride=(1, 1), padding=(1, 1))\n",
              "    (1): BatchNorm2d(128, eps=1e-05, momentum=0.1, affine=True, track_running_stats=True)\n",
              "    (2): ReLU(inplace=True)\n",
              "  )\n",
              "  (conv4): Sequential(\n",
              "    (0): Conv2d(128, 256, kernel_size=(3, 3), stride=(1, 1), padding=(1, 1))\n",
              "    (1): BatchNorm2d(256, eps=1e-05, momentum=0.1, affine=True, track_running_stats=True)\n",
              "    (2): ReLU(inplace=True)\n",
              "    (3): MaxPool2d(kernel_size=2, stride=2, padding=0, dilation=1, ceil_mode=False)\n",
              "  )\n",
              "  (res2): Sequential(\n",
              "    (0): Conv2d(256, 256, kernel_size=(3, 3), stride=(1, 1), padding=(1, 1))\n",
              "    (1): ReLU(inplace=True)\n",
              "    (2): Conv2d(256, 256, kernel_size=(3, 3), stride=(1, 1), padding=(1, 1))\n",
              "    (3): ReLU(inplace=True)\n",
              "  )\n",
              "  (classifier): Sequential(\n",
              "    (0): Flatten(start_dim=1, end_dim=-1)\n",
              "    (1): Linear(in_features=12544, out_features=1024, bias=True)\n",
              "    (2): ReLU()\n",
              "    (3): Linear(in_features=1024, out_features=256, bias=True)\n",
              "    (4): ReLU()\n",
              "    (5): Linear(in_features=256, out_features=26, bias=True)\n",
              "  )\n",
              ")"
            ]
          },
          "metadata": {},
          "execution_count": 12
        }
      ]
    },
    {
      "cell_type": "markdown",
      "metadata": {
        "id": "V65UGX3ewGPR"
      },
      "source": [
        "#### Predictions with the initial hyperparameters"
      ]
    },
    {
      "cell_type": "code",
      "metadata": {
        "id": "UmRLTgjRv6eO"
      },
      "source": [
        "import torch.nn.functional as F\n",
        "\n",
        "for images, label in train_load:\n",
        "    labels = to_device(torch.tensor([x-1 for x in label]), device)\n",
        "    outputs = to_device(model(images), device)\n",
        "    break"
      ],
      "execution_count": 13,
      "outputs": []
    },
    {
      "cell_type": "markdown",
      "metadata": {
        "id": "Swj1IxwxeROk"
      },
      "source": [
        "We pass the outputs through the softmax function so that the outputs are in the range 0 to 1 and the sum of the outputs for each data point in the batch is 1, and the outputs can represent probabilities."
      ]
    },
    {
      "cell_type": "code",
      "metadata": {
        "id": "laQkhunSreFK"
      },
      "source": [
        "probs = F.softmax(outputs, dim=1)"
      ],
      "execution_count": 14,
      "outputs": []
    },
    {
      "cell_type": "markdown",
      "metadata": {
        "id": "6cjpJioKglOX"
      },
      "source": [
        "We can take the class with the highest probability as the predicted class. The 'max_probs' represents the highest probability and 'preds' represents it's index, which can be called the predicted label."
      ]
    },
    {
      "cell_type": "code",
      "metadata": {
        "id": "WR-E-7Cyrkkg",
        "colab": {
          "base_uri": "https://localhost:8080/"
        },
        "outputId": "e54a6d7e-f373-4a69-ce84-c33e45ac5f30"
      },
      "source": [
        "max_probs, preds = torch.max(probs, dim=1)\n",
        "preds"
      ],
      "execution_count": 15,
      "outputs": [
        {
          "output_type": "execute_result",
          "data": {
            "text/plain": [
              "tensor([ 1,  2, 20, 20,  2,  1,  1,  1,  1,  1,  1, 25, 20,  1, 25, 25, 25,  2,\n",
              "         1,  1, 18, 25,  1, 25,  1,  1, 25,  1,  1,  2, 25,  1,  1, 25, 20, 18,\n",
              "         1,  1, 18,  1,  1, 25,  1, 20, 10,  1, 20, 20,  1,  1, 20, 25, 25,  1,\n",
              "        20,  1, 18,  1, 20, 20,  1, 20, 20,  1, 18,  1,  1, 25, 20, 18,  1, 20,\n",
              "         1, 18, 10, 20,  1,  1, 18, 25,  2, 20, 25, 20, 24,  1, 18,  1, 20,  1,\n",
              "        25,  1,  1,  1,  1,  1,  1,  1,  1, 20, 10,  1,  1,  1, 25,  1, 20,  1,\n",
              "        20,  1, 20,  1,  2, 25,  1, 10,  1,  1,  1, 20,  1, 20, 20,  1, 18,  1,\n",
              "         1,  1], device='cuda:0')"
            ]
          },
          "metadata": {},
          "execution_count": 15
        }
      ]
    },
    {
      "cell_type": "markdown",
      "metadata": {
        "id": "2H4HfQGbhah2"
      },
      "source": [
        "These are the labels predicted with the initial set of weights and biases. Since it's totally random, they are very likely to be wrong."
      ]
    },
    {
      "cell_type": "markdown",
      "metadata": {
        "id": "4sBskJLVxQ5I"
      },
      "source": [
        "#### Defining accuracy of the model"
      ]
    },
    {
      "cell_type": "markdown",
      "metadata": {
        "id": "nafHzdeuiDVH"
      },
      "source": [
        "We calculate the accuracy by checking the number of right predictions."
      ]
    },
    {
      "cell_type": "code",
      "metadata": {
        "id": "K-deem1Vw_HZ"
      },
      "source": [
        "def accuracy(outputs, labels):\n",
        "    _, preds = torch.max(outputs, dim=1)\n",
        "    return torch.tensor(torch.sum(preds == labels).item() / len(preds))"
      ],
      "execution_count": 16,
      "outputs": []
    },
    {
      "cell_type": "code",
      "metadata": {
        "id": "5pIwkgn4xaB-",
        "colab": {
          "base_uri": "https://localhost:8080/"
        },
        "outputId": "a3677a02-46f5-42b1-d5d9-cd43f237d148"
      },
      "source": [
        "accuracy(outputs, labels)"
      ],
      "execution_count": 17,
      "outputs": [
        {
          "output_type": "execute_result",
          "data": {
            "text/plain": [
              "tensor(0.0391)"
            ]
          },
          "metadata": {},
          "execution_count": 17
        }
      ]
    },
    {
      "cell_type": "markdown",
      "metadata": {
        "id": "0clWKEIViNj_"
      },
      "source": [
        "The accuracy is quite low, as expected."
      ]
    },
    {
      "cell_type": "markdown",
      "metadata": {
        "id": "r0O0-MKAxyY3"
      },
      "source": [
        "#### Defining the loss function"
      ]
    },
    {
      "cell_type": "code",
      "metadata": {
        "id": "HbG1Mug7xpma",
        "colab": {
          "base_uri": "https://localhost:8080/"
        },
        "outputId": "48fc7518-3769-4f7c-e392-9882a108a962"
      },
      "source": [
        "loss_fn = F.cross_entropy\n",
        "\n",
        "loss = loss_fn(outputs, labels)\n",
        "print(loss)"
      ],
      "execution_count": 18,
      "outputs": [
        {
          "output_type": "stream",
          "name": "stdout",
          "text": [
            "tensor(3.2752, device='cuda:0', grad_fn=<NllLossBackward0>)\n"
          ]
        }
      ]
    },
    {
      "cell_type": "markdown",
      "metadata": {
        "id": "28JPo7I2x8Sd"
      },
      "source": [
        "#### Training the model"
      ]
    },
    {
      "cell_type": "markdown",
      "metadata": {
        "id": "KPOApHh1i2y2"
      },
      "source": [
        "We evaluate the model on the basis of the loss and accuracy.\n",
        "\n",
        "We fit the model to the training and validation datasets. The optimizer we use is SGD to change the weights and biases. For each epoch, in each batch, the loss is calculated on the training data and the model parameters are updated using the optimizer, which is then initialized again, so that the gradients do not keep adding up after each epoch. We evaluate the model with the updated model parameters on the validation dataset, and add each result to history.\n",
        "We use 3 important concepts in our fit function, Learning Rate Scheduling: Instead of keeping the learning rate fixed, we vary it according to a policy, \"One Cycle Learning Rate Policy\", which involves starting with a low learning rate, gradually increasing it batch-by-batch to a high learning rate for about 30% of epochs, then gradually decreasing it to a very low value for the remaining epochs; Gradient Clipping: to limit the values of gradients to a small range to prevent undesirable changes in parameters due to large gradient values; and Weught Decay: which prevents the weights from becoming too large by adding an additional term to the loss function."
      ]
    },
    {
      "cell_type": "code",
      "metadata": {
        "id": "nbg5yRgvx2GC"
      },
      "source": [
        "@torch.no_grad()\n",
        "def evaluate(model, val_loader):\n",
        "    model.eval()\n",
        "    outputs = [model.validation_step(batch) for batch in val_loader]\n",
        "    return model.validation_epoch_end(outputs)\n",
        "\n",
        "def get_lr(optimizer):\n",
        "    for param_group in optimizer.param_groups:\n",
        "        return param_group['lr']\n",
        "\n",
        "def fit_one_cycle(epochs, max_lr, model, train_loader, val_loader,\n",
        "                  weight_decay=0, grad_clip=None, opt_func=torch.optim.SGD):\n",
        "    torch.cuda.empty_cache()\n",
        "    history = []\n",
        "\n",
        "    # Set up cutom optimizer with weight decay\n",
        "    optimizer = opt_func(model.parameters(), max_lr, weight_decay=weight_decay)\n",
        "    # Set up one-cycle learning rate scheduler\n",
        "    sched = torch.optim.lr_scheduler.OneCycleLR(optimizer, max_lr, epochs=epochs,\n",
        "                                                steps_per_epoch=len(train_loader))\n",
        "\n",
        "    for epoch in range(epochs):\n",
        "        # Training Phase\n",
        "        model.train()\n",
        "        train_losses = []\n",
        "        lrs = []\n",
        "        for batch in train_loader:\n",
        "            loss = model.training_step(batch)\n",
        "            train_losses.append(loss)\n",
        "            loss.backward()\n",
        "\n",
        "            # Gradient clipping\n",
        "            if grad_clip:\n",
        "                nn.utils.clip_grad_value_(model.parameters(), grad_clip)\n",
        "\n",
        "            optimizer.step()\n",
        "            optimizer.zero_grad()\n",
        "\n",
        "            # Record & update learning rate\n",
        "            lrs.append(get_lr(optimizer))\n",
        "            sched.step()\n",
        "\n",
        "        # Validation phase\n",
        "        result = evaluate(model, val_loader)\n",
        "        result['train_loss'] = torch.stack(train_losses).mean().item()\n",
        "        result['lrs'] = lrs\n",
        "        model.epoch_end(epoch, result)\n",
        "        history.append(result)\n",
        "    return history"
      ],
      "execution_count": 19,
      "outputs": []
    },
    {
      "cell_type": "code",
      "metadata": {
        "id": "xqXSCAbbyD3H",
        "colab": {
          "base_uri": "https://localhost:8080/"
        },
        "outputId": "9eb9a7e5-9f94-4ef7-dd44-1df72d84bfc4"
      },
      "source": [
        "history = [evaluate(model, val_load)]\n",
        "history"
      ],
      "execution_count": 20,
      "outputs": [
        {
          "output_type": "execute_result",
          "data": {
            "text/plain": [
              "[{'val_loss': 3.258587598800659, 'val_acc': 0.0385044626891613}]"
            ]
          },
          "metadata": {},
          "execution_count": 20
        }
      ]
    },
    {
      "cell_type": "code",
      "metadata": {
        "id": "Cv06-YDtXcJB"
      },
      "source": [
        "epochs = 15\n",
        "max_lr = 0.05\n",
        "grad_clip = 0.5\n",
        "weight_decay = 1e-3"
      ],
      "execution_count": 21,
      "outputs": []
    },
    {
      "cell_type": "code",
      "metadata": {
        "id": "rVbWqKBSQ7te",
        "colab": {
          "base_uri": "https://localhost:8080/"
        },
        "outputId": "260b3af7-5c6b-419b-9622-b763d110533e"
      },
      "source": [
        "history += fit_one_cycle(epochs, max_lr, model, train_load, val_load,\n",
        "                             grad_clip=grad_clip,\n",
        "                             weight_decay=weight_decay)"
      ],
      "execution_count": 22,
      "outputs": [
        {
          "output_type": "stream",
          "name": "stdout",
          "text": [
            "Epoch [0], val_loss: 0.2613, train_loss: 0.5158, val_acc: 0.9115\n",
            "Epoch [1], val_loss: 0.2301, train_loss: 0.2216, val_acc: 0.9248\n",
            "Epoch [2], val_loss: 0.2354, train_loss: 0.1879, val_acc: 0.9214\n",
            "Epoch [3], val_loss: 0.1871, train_loss: 0.1659, val_acc: 0.9365\n",
            "Epoch [4], val_loss: 0.1901, train_loss: 0.1493, val_acc: 0.9372\n",
            "Epoch [5], val_loss: 0.1936, train_loss: 0.1415, val_acc: 0.9328\n",
            "Epoch [6], val_loss: 0.1719, train_loss: 0.1361, val_acc: 0.9410\n",
            "Epoch [7], val_loss: 0.1901, train_loss: 0.1290, val_acc: 0.9365\n",
            "Epoch [8], val_loss: 0.1976, train_loss: 0.1236, val_acc: 0.9302\n",
            "Epoch [9], val_loss: 0.1625, train_loss: 0.1186, val_acc: 0.9427\n",
            "Epoch [10], val_loss: 0.1538, train_loss: 0.1091, val_acc: 0.9443\n",
            "Epoch [11], val_loss: 0.1413, train_loss: 0.0979, val_acc: 0.9503\n",
            "Epoch [12], val_loss: 0.1350, train_loss: 0.0857, val_acc: 0.9526\n",
            "Epoch [13], val_loss: 0.1286, train_loss: 0.0737, val_acc: 0.9549\n",
            "Epoch [14], val_loss: 0.1268, train_loss: 0.0661, val_acc: 0.9557\n"
          ]
        }
      ]
    },
    {
      "cell_type": "code",
      "metadata": {
        "id": "FybgSbkiqORr",
        "colab": {
          "base_uri": "https://localhost:8080/",
          "height": 472
        },
        "outputId": "fe7e8492-e4c4-423a-aac6-3f468973dbee"
      },
      "source": [
        "accuracies = [result['val_acc'] for result in history]\n",
        "plt.plot(accuracies, '-x')\n",
        "plt.xlabel('epoch')\n",
        "plt.ylabel('accuracy')\n",
        "plt.title('Accuracy vs. No. of epochs');"
      ],
      "execution_count": 26,
      "outputs": [
        {
          "output_type": "display_data",
          "data": {
            "text/plain": [
              "<Figure size 640x480 with 1 Axes>"
            ],
            "image/png": "[encoded data removed]"
          },
          "metadata": {}
        }
      ]
    },
    {
      "cell_type": "markdown",
      "metadata": {
        "id": "8kMcRJaQqX8B"
      },
      "source": [
        "As we can see, the accuracy becomes constant towards the end. It means that we have reached the linear regression limit, and to get better accuracies, we will have to use to more advanced models."
      ]
    },
    {
      "cell_type": "markdown",
      "metadata": {
        "id": "hxJBzRJNZ8Sa"
      },
      "source": [
        "Training loss and validation loss is plotted to check if there is a case of overfitting."
      ]
    },
    {
      "cell_type": "code",
      "metadata": {
        "id": "ylxeO5lIsLJD"
      },
      "source": [
        "def plot_losses(history):\n",
        "    train_losses = [x.get('train_loss') for x in history]\n",
        "    val_losses = [x['val_loss'] for x in history]\n",
        "    plt.plot(train_losses, '-bx')\n",
        "    plt.plot(val_losses, '-rx')\n",
        "    plt.xlabel('epoch')\n",
        "    plt.ylabel('loss')\n",
        "    plt.legend(['Training', 'Validation'])\n",
        "    plt.title('Loss vs. No. of epochs');"
      ],
      "execution_count": 27,
      "outputs": []
    },
    {
      "cell_type": "code",
      "metadata": {
        "id": "rkJsPsKQsTEm",
        "colab": {
          "base_uri": "https://localhost:8080/",
          "height": 472
        },
        "outputId": "32691b63-87a2-4cec-b846-7429bf26b508"
      },
      "source": [
        "plot_losses(history)"
      ],
      "execution_count": 28,
      "outputs": [
        {
          "output_type": "display_data",
          "data": {
            "text/plain": [
              "<Figure size 640x480 with 1 Axes>"
            ],
            "image/png": "[encoded data removed]"
          },
          "metadata": {}
        }
      ]
    },
    {
      "cell_type": "markdown",
      "metadata": {
        "id": "wSdP1JinnNBW"
      },
      "source": [
        "Our model is not overfitting."
      ]
    },
    {
      "cell_type": "markdown",
      "metadata": {
        "id": "U4MOtieL0iOM"
      },
      "source": [
        "#### Downloading and Transforming the test dataset\n",
        "The test dataset is downloaded with train permissions as False, since we are not going to use it for training, and converted to tensors."
      ]
    },
    {
      "cell_type": "code",
      "metadata": {
        "id": "PMs3LTfq0QsH"
      },
      "source": [
        "test_dataset = EMNIST(root='data/',\n",
        "                     train=False,\n",
        "                     transform=transforms.ToTensor(), split='letters')"
      ],
      "execution_count": 29,
      "outputs": []
    },
    {
      "cell_type": "code",
      "metadata": {
        "id": "fTwQURA85-Z1",
        "colab": {
          "base_uri": "https://localhost:8080/"
        },
        "outputId": "17e3d07d-3dcb-4fc3-b21e-f8278f6ec971"
      },
      "source": [
        "len(test_dataset)"
      ],
      "execution_count": 30,
      "outputs": [
        {
          "output_type": "execute_result",
          "data": {
            "text/plain": [
              "20800"
            ]
          },
          "metadata": {},
          "execution_count": 30
        }
      ]
    },
    {
      "cell_type": "code",
      "metadata": {
        "id": "x_AT6VkT0tY1",
        "colab": {
          "base_uri": "https://localhost:8080/",
          "height": 467
        },
        "outputId": "ac25874c-b376-4f88-eefb-44399a7fec52"
      },
      "source": [
        "img, label = test_dataset[0]\n",
        "plt.imshow(img[0], cmap='gray')\n",
        "print('Shape:', img.shape)\n",
        "print('Label:', label-1)"
      ],
      "execution_count": 31,
      "outputs": [
        {
          "output_type": "stream",
          "name": "stdout",
          "text": [
            "Shape: torch.Size([1, 28, 28])\n",
            "Label: 0\n"
          ]
        },
        {
          "output_type": "display_data",
          "data": {
            "text/plain": [
              "<Figure size 640x480 with 1 Axes>"
            ],
            "image/png": "[encoded data removed]"
          },
          "metadata": {}
        }
      ]
    },
    {
      "cell_type": "code",
      "metadata": {
        "id": "2wpSOeX-0y_y",
        "colab": {
          "base_uri": "https://localhost:8080/",
          "height": 467
        },
        "outputId": "77ebaff8-6060-46d8-c3ba-19f8e1f1c91f"
      },
      "source": [
        "img, label = test_dataset[1]\n",
        "plt.imshow(img[0], cmap='gray')\n",
        "print('Shape:', img.shape)\n",
        "print('Label:', label-1)"
      ],
      "execution_count": 32,
      "outputs": [
        {
          "output_type": "stream",
          "name": "stdout",
          "text": [
            "Shape: torch.Size([1, 28, 28])\n",
            "Label: 0\n"
          ]
        },
        {
          "output_type": "display_data",
          "data": {
            "text/plain": [
              "<Figure size 640x480 with 1 Axes>"
            ],
            "image/png": "[encoded data removed]"
          },
          "metadata": {}
        }
      ]
    },
    {
      "cell_type": "code",
      "metadata": {
        "id": "vd2KPSmf2C2E",
        "colab": {
          "base_uri": "https://localhost:8080/",
          "height": 467
        },
        "outputId": "6f293d95-a9eb-4a1e-e33e-788b20f101b3"
      },
      "source": [
        "img, label = test_dataset[3000]\n",
        "plt.imshow(img[0], cmap='gray')\n",
        "print('Shape:', img.shape)\n",
        "print('Label:', label-1)"
      ],
      "execution_count": 33,
      "outputs": [
        {
          "output_type": "stream",
          "name": "stdout",
          "text": [
            "Shape: torch.Size([1, 28, 28])\n",
            "Label: 3\n"
          ]
        },
        {
          "output_type": "display_data",
          "data": {
            "text/plain": [
              "<Figure size 640x480 with 1 Axes>"
            ],
            "image/png": "[encoded data removed]"
          },
          "metadata": {}
        }
      ]
    },
    {
      "cell_type": "markdown",
      "metadata": {
        "id": "y-_KQ5UTmQhF"
      },
      "source": [
        "We are adding an extra dimension, with the value 1, which the model considers as a batch with 1 image."
      ]
    },
    {
      "cell_type": "code",
      "metadata": {
        "id": "146fZB2t2Gp1",
        "colab": {
          "base_uri": "https://localhost:8080/"
        },
        "outputId": "cfaf6372-9429-471b-d0f6-440bd95e48e4"
      },
      "source": [
        "img.unsqueeze(0).shape"
      ],
      "execution_count": 34,
      "outputs": [
        {
          "output_type": "execute_result",
          "data": {
            "text/plain": [
              "torch.Size([1, 1, 28, 28])"
            ]
          },
          "metadata": {},
          "execution_count": 34
        }
      ]
    },
    {
      "cell_type": "markdown",
      "metadata": {
        "id": "tN4h4Au02RK2"
      },
      "source": [
        "#### Test the model on the test dataset\n",
        "We predict the output using the method described above, by considering the outputs as probabilities and the class with the highest probability as the prediction."
      ]
    },
    {
      "cell_type": "code",
      "metadata": {
        "id": "xPmc0Q9z2QPj"
      },
      "source": [
        "def predict_image(img, model):\n",
        "    xb = to_device(img.unsqueeze(0), device)\n",
        "    yb = model(xb)\n",
        "    _, preds  = torch.max(yb, dim=1)\n",
        "    return preds[0].item()"
      ],
      "execution_count": 35,
      "outputs": []
    },
    {
      "cell_type": "code",
      "metadata": {
        "id": "NGqWA26g2cqX",
        "colab": {
          "base_uri": "https://localhost:8080/",
          "height": 448
        },
        "outputId": "abbe1dc4-eee6-47ef-b192-09dc74296a90"
      },
      "source": [
        "img, label = test_dataset[20000]\n",
        "plt.imshow(img[0], cmap='gray')\n",
        "print('Label:', label, ', Predicted Label:', predict_image(img, model) + 1, ', Predicted Alphabet:', classes[predict_image(img, model)])"
      ],
      "execution_count": 43,
      "outputs": [
        {
          "output_type": "stream",
          "name": "stdout",
          "text": [
            "Label: 26 , Predicted Label: 26 , Predicted Alphabet: y\n"
          ]
        },
        {
          "output_type": "display_data",
          "data": {
            "text/plain": [
              "<Figure size 640x480 with 1 Axes>"
            ],
            "image/png": "[encoded data removed]"
          },
          "metadata": {}
        }
      ]
    },
    {
      "cell_type": "code",
      "metadata": {
        "id": "Wl5FutNG2hQ1",
        "colab": {
          "base_uri": "https://localhost:8080/",
          "height": 448
        },
        "outputId": "40a9101d-916b-4eac-8619-a7c11f135f41"
      },
      "source": [
        "img, label = test_dataset[5000]\n",
        "plt.imshow(img[0], cmap='gray')\n",
        "print('Label:', label, ', Predicted Label:', predict_image(img, model) + 1, ', Predicted Alphabet:', classes[predict_image(img, model)])"
      ],
      "execution_count": 44,
      "outputs": [
        {
          "output_type": "stream",
          "name": "stdout",
          "text": [
            "Label: 7 , Predicted Label: 7 , Predicted Alphabet: f\n"
          ]
        },
        {
          "output_type": "display_data",
          "data": {
            "text/plain": [
              "<Figure size 640x480 with 1 Axes>"
            ],
            "image/png": "[encoded data removed]"
          },
          "metadata": {}
        }
      ]
    },
    {
      "cell_type": "code",
      "metadata": {
        "id": "GLF7bLD-2lKR",
        "colab": {
          "base_uri": "https://localhost:8080/",
          "height": 448
        },
        "outputId": "41ca928a-fdbb-4581-e5df-2b96121331d5"
      },
      "source": [
        "img, label = test_dataset[3000]\n",
        "plt.imshow(img[0], cmap='gray')\n",
        "print('Label:', label, ', Predicted Label:', predict_image(img, model) + 1, ', Predicted Alphabet:', classes[predict_image(img, model)])"
      ],
      "execution_count": 45,
      "outputs": [
        {
          "output_type": "stream",
          "name": "stdout",
          "text": [
            "Label: 4 , Predicted Label: 4 , Predicted Alphabet: c\n"
          ]
        },
        {
          "output_type": "display_data",
          "data": {
            "text/plain": [
              "<Figure size 640x480 with 1 Axes>"
            ],
            "image/png": "[encoded data removed]"
          },
          "metadata": {}
        }
      ]
    },
    {
      "cell_type": "markdown",
      "metadata": {
        "id": "lPaEpjRE23bf"
      },
      "source": [
        "#### Evaluate the model on the test dataset"
      ]
    },
    {
      "cell_type": "code",
      "metadata": {
        "id": "4VzlRk252uM9",
        "colab": {
          "base_uri": "https://localhost:8080/"
        },
        "outputId": "aad711d9-e120-44a7-ac7d-96d919f04c28"
      },
      "source": [
        "test_loader = DeviceDataLoader(DataLoader(test_dataset, batch_size=128), device)\n",
        "result = evaluate(model, test_loader)\n",
        "result"
      ],
      "execution_count": 46,
      "outputs": [
        {
          "output_type": "execute_result",
          "data": {
            "text/plain": [
              "{'val_loss': 0.1336963176727295, 'val_acc': 0.9534125924110413}"
            ]
          },
          "metadata": {},
          "execution_count": 46
        }
      ]
    },
    {
      "cell_type": "markdown",
      "metadata": {
        "id": "LYiumYJs3NAk"
      },
      "source": [
        "#### The final accuracy of the model on the test dataset is 95.32% using a resnet architecture."
      ]
    },
    {
      "cell_type": "code",
      "source": [
        "model = EmnistModel().to(device)\n",
        "\n",
        "torch.save({\n",
        "    'model_state_dict': model.state_dict(),\n",
        "    'model_structure': EmnistModel()\n",
        "}, \"emnist_model.pth\")\n",
        "\n"
      ],
      "metadata": {
        "id": "EXw5NudGUBAO"
      },
      "execution_count": 49,
      "outputs": []
    }
  ]
}